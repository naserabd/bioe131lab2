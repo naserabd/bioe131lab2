{
 "cells": [
  {
   "cell_type": "code",
   "execution_count": 15,
   "metadata": {},
   "outputs": [],
   "source": [
    "from Bio import Phylo\n",
    "import matplotlib.pyplot as plt"
   ]
  },
  {
   "cell_type": "code",
   "execution_count": 16,
   "metadata": {
    "scrolled": false
   },
   "outputs": [
    {
     "name": "stdout",
     "output_type": "stream",
     "text": [
      " , hu.39\n",
      " |\n",
      " | rh.50\n",
      " |\n",
      "_, rh.49\n",
      " |\n",
      " , rh.57\n",
      " |\n",
      " | rh.51\n",
      " |\n",
      " , rh.53\n",
      " |\n",
      " | rh.64\n",
      " |\n",
      " , rh.52\n",
      " |\n",
      " , rh.61\n",
      " |\n",
      " |, rh.58\n",
      " ||\n",
      " ||                              , pi.2\n",
      " ||          ____________________|\n",
      " ||         |                    |, pi.3\n",
      " ||         |                    ||\n",
      " ||         |                     | pi.1\n",
      " ||         |\n",
      " ||         |            _ hu.17\n",
      " ||        _|          ,|\n",
      " ||       | |          || hu.6\n",
      " ||       | |   _______|\n",
      " ||       | |  |       |, rh.10\n",
      " ||       | |  |       ||\n",
      "  |       | |  |        |, bb.1\n",
      "  |       | |__|        ||\n",
      "  |       |    |         | bb.2\n",
      "  |       |    |\n",
      "  |       |    |    ______ rh.2\n",
      "  |       |    |   |\n",
      "  |       |    |___|         __ rh.40\n",
      "  |       |        |        |\n",
      "  |       |        |________|, hu.67\n",
      "  |       |                 ||\n",
      "  |       |                 |, hu.37\n",
      "  |       |                  |\n",
      "  |_______|                  |, hu.40\n",
      "          |                  ||\n",
      "          |                  || hu.66\n",
      "          |                  ||\n",
      "          |                   , hu.42\n",
      "          |                   |\n",
      "          |                   , hu.41\n",
      "          |                   |\n",
      "          |                   | rh.38\n",
      "          |\n",
      "          |         _______________ rh.43\n",
      "          |    ____|\n",
      "          |   |    |                                              _ hu.14\n",
      "          |   |    |_____________________________________________|\n",
      "          |   |                                                  |  , hu.31\n",
      "          |   |                                                  |__|\n",
      "          |   |                                                     | hu.32\n",
      "          |   |\n",
      "          |___|                                        _ hu.43\n",
      "              |        _______________________________|\n",
      "              |       |                               | , hu.48\n",
      "              |       |                               |_|\n",
      "              |       |                                 |      , hu.44\n",
      "              |       |                                 |______|\n",
      "              |       |                                        | hu.46\n",
      "              |       |\n",
      "              |_______|             ______ cy.2\n",
      "                      |    ________|\n",
      "                      |   |        |     __ rh.54\n",
      "                      |   |        |____|\n",
      "                      |   |             |      __ rh.55\n",
      "                      |   |             |_____|\n",
      "                      |   |                   | , rh.48\n",
      "                      |___|                   |_|\n",
      "                          |                     | rh.62\n",
      "                          |\n",
      "                          |                 , rh.35\n",
      "                          |          _______|\n",
      "                          |         |       , rh.36\n",
      "                          |         |       |\n",
      "                          |_________|       | rh.37\n",
      "                                    |\n",
      "                                    |              , cy.3\n",
      "                                    |              |\n",
      "                                    |______________, cy.6\n",
      "                                                   |\n",
      "                                                   | cy.4\n",
      "                                                   |\n",
      "                                                   , cy.5\n",
      "                                                   |\n",
      "                                                   | rh.13\n",
      "\n"
     ]
    }
   ],
   "source": [
    "tree = Phylo.read('tree.nwk','newick')\n",
    "tree.ladderize()\n",
    "Phylo.draw_ascii(tree)"
   ]
  },
  {
   "cell_type": "code",
   "execution_count": 17,
   "metadata": {
    "scrolled": true
   },
   "outputs": [
    {
     "name": "stdout",
     "output_type": "stream",
     "text": [
      "bb.1\n",
      "bb.2\n",
      "cy.2\n",
      "cy.3\n",
      "cy.4\n",
      "cy.5\n",
      "cy.6\n",
      "hu.14\n",
      "hu.17\n",
      "hu.31\n",
      "hu.32\n",
      "hu.37\n",
      "hu.39\n",
      "hu.40\n",
      "hu.41\n",
      "hu.42\n",
      "hu.43\n",
      "hu.44\n",
      "hu.46\n",
      "hu.48\n",
      "hu.6\n",
      "hu.66\n",
      "hu.67\n",
      "pi.1\n",
      "pi.2\n",
      "pi.3\n",
      "rh.10\n",
      "rh.13\n",
      "rh.2\n",
      "rh.35\n",
      "rh.36\n",
      "rh.37\n",
      "rh.38\n",
      "rh.40\n",
      "rh.43\n",
      "rh.48\n",
      "rh.49\n",
      "rh.50\n",
      "rh.51\n",
      "rh.52\n",
      "rh.53\n",
      "rh.54\n",
      "rh.55\n",
      "rh.57\n",
      "rh.58\n",
      "rh.61\n",
      "rh.62\n",
      "rh.64\n"
     ]
    }
   ],
   "source": [
    "from Bio import SeqIO\n",
    "for record in SeqIO.parse(\"seqs.fa\", \"fasta\"):\n",
    "    print(record.id)"
   ]
  },
  {
   "cell_type": "code",
   "execution_count": 18,
   "metadata": {
    "scrolled": true
   },
   "outputs": [
    {
     "name": "stdout",
     "output_type": "stream",
     "text": [
      "atggttgccgatggttatcttccagattggctcgaggacaacctctctgagggcattcgcgagtggtgggacctgaaacctggagccccgaaacccaaagccaaccagcaaaagcagggcgacggccggggtctggtgcttcctggctacaagtacctcggacccttcaacggactcgacaagggggagcccgtcaacgcggcggacgcagcggccctcgagcacgacaaggcctacgaccagcagcttaaagcgggtgacaatccgtacctgcggtataatcacgccgacgccgagcttcaggagcgtctgcaagaagatacgtcttttgggggcaacctcgggcgagcagtcttccaggccaagaagcgggttctcgaacctctcggtctggttgaggaaggcgctaagacggctcctggaaagaagagaccggtagagccgtcaccacagcgttcccccgactcctccacgggcatcggcaagaaaggccagcagcccgccagaaagagactcaatttcggtcagactggcgactcagagtcagtccccgaccctcaacctatcggagaacctccagcagcgccctctagtgtgggatctggtacaatggctgcaggcggtggcgcgccaatggcagacaataacgaaggtgccgacggagtgggtagttcctcgggaaattggcattgcgattccacatggctgggcgacagagtcatcaccaccagcacccgaacctgggccctgcccacctacaacaaccacctctacaagcaaatctccaacgggacctcgggaggcagcaccaacgacaacacctactttggctacagcaccccctgggggtattttgactttaacagattccactgccacttctcaccacgtgactggcagcgactcatcaacaacaactggggattccggcccaagagactcagcttcaagctcttcaacatccaggtcaaagaggtcacgcagaatgaaggcaccaagaccatcgccaataacctcaccagcaccatccaggtgtttacggactcggaataccagctgccgtacgtcctcggctctgcccaccagggctgccagcctccgttcccggcggacgtcttcatgattcctcagtacggctacctgactctcaacaacggtagtcaggccgtgggacgttcctccttctactgcctggagtacttcccctctcagatgctgagaacgggcaacaacttttccttcagctacactttcgaggacgtgcctttccacagcagctacgcgcacagccagagtttggacaggctgatgaatcctctcatcgaccagtacctgtactacctgtcaagaacccagtctacgggaggcacagcgggaacccagcagttgctgttttctcaggccgggcctagcaacatgtcggctcaggccagaaactggctgcctggaccctgctacagacagcagcgcgtctccacgacactgtcgcaaaacaacaacagcaactttgcctggactggtgccaccaagtatcatctgaacggcagagactctctggtgaatccgggcgtcgccatggcaaccaacaaggacgacgaggaccgcttcttcccatccagcggcatcctcatgtttggcaagcagggagctggaaaagacaacgtggactatagcaacgtgatgctaaccagcgaggaagaaatcaagaccaccaaccccgtggccacagaacagtatggcgtggtggctgataacctacagcagcaaaacaccgctcctattgtgggggccgtcaacagccagggagccttacctggcatggtctggcagaaccgggacgtgtacctgcagggtcctatttgggccaagattcctcacacagatggcaactttcacccgtctcctttaatgggcggctttggacttaaacatccgcctcctcagatcctcatcaaaaacactcctgttcctgcggatcctccaacagcgttcaaccaggccaagctgaattctttcatcacgcagtacagcaccggacaagtcagcgtggagatcgagtgggagccgcagaaggagaacagcaagcgctggaacccagagattcagtatacttccaactactacaaatctacaaatgtggactttgctgttaatactgagggtgtttactctgagcctcgccccattggcactcgttacctcacccgtaatctgtaa\n"
     ]
    }
   ],
   "source": [
    "from Bio import SeqIO\n",
    "record_dict = SeqIO.to_dict(SeqIO.parse(\"seqs.fa\", \"fasta\"))\n",
    "print(record_dict[\"rh.51\"].seq)"
   ]
  },
  {
   "cell_type": "code",
   "execution_count": 19,
   "metadata": {
    "scrolled": true
   },
   "outputs": [
    {
     "name": "stdout",
     "output_type": "stream",
     "text": [
      "atggctgctgacggttatcttccagattggctcgaggacaacctctctgagggcattcgcgagtggtgggacctgaaacctggagcccccaagcccaaggccaaccagcagaagcaggacgacggccggggtctggtgcttcctggctacaagtacctcggacccttcaacggactcgacaagggggagcccgtcaacgcggcggacgcagcggccctcgagcacgacaaggcctacgaccagcagctcaaagcgggtgacaatccgtacctgcggtataaccacgccgacgccgagtttcaggagcgtctgcaagaagatacgtcttttgggggcaacctcgggcgagcagtcttccaggccaagaagcgggttctcgaacctctcggtctggttgaggaagctgctaagacggctcctggaaagaagagaccggtagaaccgtcacctcagcgttcccccgactcctccacgggcatcggcaagaaaggccagcagcccgctaaaaagagactgagctttggtcagactggcgactcagagtcagtccccgaccctcaaccaatcggagaaccaccagcaggcccctctggtctgggatctggtacaatggctgcaggcggtggcgctccaatggcagacaataacgaaggcgccgacggagtgggtagttcctcaggaaattggcattgcgattccacatggctgggcgacagagtcatcaccaccagcacccgaacctgggccctgcccacctacaacaaccacctctacaagcaaatatccaatgggacatcgggaggaagcaccaacgacaacacctacttcggctacagcaccccctgggggtattttgacttcaacagattccactgccacttctcaccacgtgactggcagcgactcatcaacaacaactggggattccggccaaaaagactcagcttcaagctcttcaacatccaggtcaaggaggtcacgcagaatgaaggcaccaagaccatcgccaataaccttaccagcacgattcaggtatttacggactcggaataccagctgccgtacgtcctcggctccgcgcaccagggctgcctgcctccgttcccggcggacgtcttcatgattccccagtacggctaccttacactgaacaatggaagtcaagccgtaggccgttcctccttctactgcctggaatattttccatctcaaatgctgcgaactggaaacaattctgaattcagctacaccttcgaggacgtgcctttccacagcagctacgcacacagccagagcttggaccgactgatgaatcctctcatcgaccagtacctgtactacttatccagaactcagtccacaggaggaactcaaggtacccagcaattgttattttctcaagctgggcctgcaaacatgtcggctcaggctaagaactggctacctggaccttgctaccggcagcagcgagtctctacgacactgtcgcaaaacaacaacagcaactttgcttggactggtgccaccaaatatcacctgaacggaagagactctttggtaaatcccggtgtcgccatggcaacccacaaggacgacgaggaacgcttcttcccgtcgagtggagtcctgatgtttggaaaacagggtgctggaagagacaatgtggactacagcagcgttatgctaaccagcgaagaagaaattaaaaccactaaccctgtagccacagaacaatacggtgtggtggctgacaacttgcagcaaaccaatacagggcctattgtgggaaatgtcaacagccaaggagccttacctggcatggtctggcagaaccgagacgtgtacctgcagggtcccatctgggccaagattcctcacacggacggcaacttccacccttcaccgctaatgggaggatttggactgaagcacccacctcctcagatcctgatcaagaacacgccggtacctgcggatcctccaacaacgttcagccaggcgaaattggcttccttcattacgcagtacagcaccggacaggtcagcgtggaaatcgagtgggagctgcagaaggagaacagcaaacgctggaacccagagattcagtacacttcaaactactacaaatctacaaatgtggactttgctgtcaatacagagggaacttattctgagcctcgccccattggtactcgttacctcacccgtaatctgtaa\n"
     ]
    }
   ],
   "source": [
    "print(record_dict[\"hu.40\"].seq)"
   ]
  },
  {
   "cell_type": "code",
   "execution_count": 20,
   "metadata": {
    "scrolled": true
   },
   "outputs": [
    {
     "name": "stdout",
     "output_type": "stream",
     "text": [
      "atggctgccgatggttatcttccagattggctcgaggacactctctctgaaggaataagacagtggtggaagctcaaacctggccccccaccaccaaagcccgcagagcggcataaggacgacagcaggggtcttgtgcttcctgggtacaagtacctcggacccggcaacggactcgacaagggggagccggtcaacgcagcagacgcggcggccctcgagcacgacaaggcctacgaccagcagctcaaggccggagacaacccgtacctcaagtacaaccacgccgacgccgagttccaggagcggctcaaagaagatacgtcttttgggggcaacctcgggcgagcagtcttccaggccaaaaagaggcttcttgaacctcttggtctggttgaggaagcggctaagacggctcctggaaagaagaggcctgtagagcagtctcctcaggaaccggactcctccgcgggtattggcaaatcgggttcacagcccgctaaaaagaaactcaatttcggtcagactggcgacacagagtcagtccccgaccctcaaccaatcggagaacctcccgcagccccctcaggtgtgggatctcttacaatggcttcaggtggtggcgcaccagtggcagacaataacgaaggtgccgatggagtgggtagttcctcgggaaattggcattgcgattcccaatggctgggggacagagtcatcaccaccagcacccgaacctgggccctgcccacctacaacaatcacctctacaagcaaatctccaacagcacatctggaggatcttcaaatgacaacgcctacttcggctacagcaccccctgggggtattttgacttcaacagattccactgccacttctcaccacgtgactggcagcgactcatcaacaacaactggggattccggcctaagcgactcaacttcaagctcttcaacattcaggtcaaagaggttacggacaacaatggagtcaagaccatcgccaataaccttaccagcacggtccaggtcttcacggactcagactatcagctcccgtacgtgctcgggtcggctcacgagggctgcctcccgccgttcccagcggacgttttcatgattcctcagtacgggtatctgacgcttaatgatggaggccaggccgtgggtcgttcgtccttttactgcctggaatatttcccgtcgcaaatgctaagaacgggtaacaacttccagttcagctacgagtttgagaacgtacctttccatagcagctacgctcacagccaaagcctggaccgactaatgaatccactcatcgaccaatacttgtactatctctcaaagactattaacggttctggacagaatcaacaaacgctaaaattcagtgtggccggacccagcaacatggctgtccagggaagaaactacatacctggacccagctaccgacaacaacgtgtctcaaccactgtgactcaaaacaacaacagcgaatttgcttggcctggagcttcttcttgggctctcaatggacgtaatagcttgatgaatcctggacctgctatggccagccacaaagaaggagaggaccgtttctttcctttgtccggatctttaatttttggcaaacaaggaactggaagagacaacgtggatgcggacaaagtcatgataaccaacgaagaagaaattaaaactactaacccggtagcaacggagtcctatggacaagtggccacaaaccaccagagtgcccaagcacaggcgcagaccggctgggttcaaaaccaaggaatacttccgggtatggtttggcaggacagagatgtgtacctgcaaggacccatttgggccaaaattcctcacacggacggcaactttcacccttctccgctaatgggagggtttggaatgaagcacccgcctcctcagatcctcatcaaaaacacacctgtacctgcggatcctccaacggctttcaataaggacaagctgaactctttcatcacccagtattctactggccaagtcagcgtggagattgagtgggagctgcagaaggaaaacagcaagcgctggaacccggagatccagtacacttccaactattacaagtctaataatgttgaatttgctgttagtactgaaggtgtatatagtgaaccccgccccattggcaccagatacctgactcgtaatctgtaa\n"
     ]
    }
   ],
   "source": [
    "print(record_dict[\"hu.31\"].seq)"
   ]
  },
  {
   "cell_type": "markdown",
   "metadata": {},
   "source": [
    "rh.51, hu.40, and hu.31 all match the capsid protein VP1 (cap) gene in common Adeno-associated virus isolate.  "
   ]
  },
  {
   "cell_type": "markdown",
   "metadata": {},
   "source": [
    "#### What are some of the most common matches for each cluster? Write them down in your lab notebook. Do they all match the same gene? Are there any that definitely do not match the others? Why might we not trust the annotations for sequences that come up in our BLAST?"
   ]
  },
  {
   "cell_type": "code",
   "execution_count": 21,
   "metadata": {},
   "outputs": [
    {
     "data": {
      "text/plain": [
       "Text(0,0.5,'%AT (orange) or %GC (blue)')"
      ]
     },
     "execution_count": 21,
     "metadata": {},
     "output_type": "execute_result"
    },
    {
     "data": {
      "image/png": "[encoded data removed]",
      "text/plain": [
       "<Figure size 432x288 with 1 Axes>"
      ]
     },
     "metadata": {},
     "output_type": "display_data"
    }
   ],
   "source": [
    "from Bio.Align import MultipleSeqAlignment\n",
    "\n",
    "#CLUSTER_1\n",
    "cluster1_ids = ['hu.39','rh.50','rh.49','rh.57','rh.51','rh.53','rh.64','rh.52','rh.61','rh.58']\n",
    "cluster1 = []\n",
    "\n",
    "record_dict = SeqIO.to_dict(SeqIO.parse(\"seqs.aligned.fa\", \"fasta\"))\n",
    "for id in cluster1_ids:\n",
    "    cluster1.append(record_dict[id])\n",
    "cluster_msa = MultipleSeqAlignment(cluster1)\n",
    "#print (cluster_msa[:,1])\n",
    "position = 0\n",
    "percentage = []\n",
    "while position <= 2237:\n",
    "    ATnum = 0\n",
    "    for base in cluster_msa[:,position]:\n",
    "        if base == 'A' or base == 'T':\n",
    "            ATnum += 1\n",
    "    percent = ATnum / len(cluster_msa[:,position])\n",
    "    percentage.append(percent)\n",
    "    position += 1 #position = position + 1\n",
    "#Plot\n",
    "plt.bar(range(0,2238),[1.0 - x for x in percentage],1,color = ['blue'])\n",
    "plt.bar(range(0,2238),percentage,1, color = ['orange'], bottom = [1.0 - x for x in percentage])\n",
    "plt.xlabel('Position in Sequence')\n",
    "plt.ylabel('%AT (orange) or %GC (blue)')"
   ]
  },
  {
   "cell_type": "code",
   "execution_count": 22,
   "metadata": {},
   "outputs": [
    {
     "data": {
      "text/plain": [
       "Text(0,0.5,'%AT (orange) or %GC (blue)')"
      ]
     },
     "execution_count": 22,
     "metadata": {},
     "output_type": "execute_result"
    },
    {
     "data": {
      "image/png": "[encoded data removed]",
      "text/plain": [
       "<Figure size 432x288 with 1 Axes>"
      ]
     },
     "metadata": {},
     "output_type": "display_data"
    }
   ],
   "source": [
    "#CLUSTER_2\n",
    "cluster2_ids = ['pi.2','pi.3','pi.1','hu.17','hu.6','rh.10','bb.1','bb.2','rh.2','rh.40','hu.67','hu.37','hu.40','hu.66','hu.42','hu.41','rh.38']\n",
    "cluster2 = []\n",
    "\n",
    "record_dict = SeqIO.to_dict(SeqIO.parse(\"seqs.aligned.fa\", \"fasta\"))\n",
    "for id in cluster2_ids:\n",
    "    cluster2.append(record_dict[id])\n",
    "cluster_msa = MultipleSeqAlignment(cluster2)\n",
    "#print (cluster_msa[:,1])\n",
    "position = 0\n",
    "percentage = []\n",
    "while position <= 2237:\n",
    "    ATnum = 0\n",
    "    for base in cluster_msa[:,position]:\n",
    "        if base == 'A' or base == 'T':\n",
    "            ATnum += 1\n",
    "    percent = ATnum / len(cluster_msa[:,position])\n",
    "    percentage.append(percent)\n",
    "    position += 1 #position = position + 1\n",
    "#Plot\n",
    "plt.bar(range(0,2238),[1.0 - x for x in percentage],1,color = ['blue'])\n",
    "plt.bar(range(0,2238),percentage,1, color = ['orange'], bottom = [1.0 - x for x in percentage])\n",
    "plt.xlabel('Position in Sequence')\n",
    "plt.ylabel('%AT (orange) or %GC (blue)')"
   ]
  },
  {
   "cell_type": "code",
   "execution_count": 23,
   "metadata": {
    "scrolled": true
   },
   "outputs": [
    {
     "data": {
      "text/plain": [
       "Text(0,0.5,'%AT (orange) or %GC (blue)')"
      ]
     },
     "execution_count": 23,
     "metadata": {},
     "output_type": "execute_result"
    },
    {
     "data": {
      "image/png": "[encoded data removed]",
      "text/plain": [
       "<Figure size 432x288 with 1 Axes>"
      ]
     },
     "metadata": {},
     "output_type": "display_data"
    }
   ],
   "source": [
    "#CLUSTER_3\n",
    "cluster3_ids = ['hu.14','hu.31','hu.32','hu.43','hu.48','hu.44','hu.46','rh.43','cy.2','rh.54','rh.55','rh.48','rh.62','rh.35','rh.36','rh.37','cy.3','cy.6','cy.4','cy.5','rh.13']\n",
    "cluster3 = []\n",
    "\n",
    "record_dict = SeqIO.to_dict(SeqIO.parse(\"seqs.aligned.fa\", \"fasta\"))\n",
    "for id in cluster3_ids:\n",
    "    cluster3.append(record_dict[id])\n",
    "cluster_msa = MultipleSeqAlignment(cluster3)\n",
    "#print (cluster_msa[:,1])\n",
    "position = 0\n",
    "percentage = []\n",
    "while position <= 2237:\n",
    "    ATnum = 0\n",
    "    for base in cluster_msa[:,position]:\n",
    "        if base == 'A' or base == 'T':\n",
    "            ATnum += 1\n",
    "    percent = ATnum / len(cluster_msa[:,position])\n",
    "    percentage.append(percent)\n",
    "    position += 1 #position = position + 1\n",
    "#Plot\n",
    "plt.bar(range(0,2238),[1.0 - x for x in percentage],1,color = ['blue'])\n",
    "plt.bar(range(0,2238),percentage,1, color = ['orange'], bottom = [1.0 - x for x in percentage])\n",
    "plt.xlabel('Position in Sequence')\n",
    "plt.ylabel('%AT (orange) or %GC (blue)')"
   ]
  },
  {
   "cell_type": "code",
   "execution_count": 24,
   "metadata": {},
   "outputs": [],
   "source": [
    "cluster1_box = []\n",
    "\n",
    "record_dict = SeqIO.to_dict(SeqIO.parse(\"seqs.fa\", \"fasta\"))\n",
    "for id in cluster1_ids:\n",
    "    cluster1_box.append(len(record_dict[id].seq))\n",
    "\n",
    "cluster2_box = []\n",
    "\n",
    "record_dict = SeqIO.to_dict(SeqIO.parse(\"seqs.fa\", \"fasta\"))\n",
    "for id in cluster2_ids:\n",
    "    cluster2_box.append(len(record_dict[id].seq))\n",
    "\n",
    "cluster3_box = []\n",
    "\n",
    "record_dict = SeqIO.to_dict(SeqIO.parse(\"seqs.fa\", \"fasta\"))\n",
    "for id in cluster3_ids:\n",
    "    cluster3_box.append(len(record_dict[id].seq))"
   ]
  },
  {
   "cell_type": "code",
   "execution_count": 25,
   "metadata": {},
   "outputs": [
    {
     "data": {
      "text/plain": [
       "Text(0,0.5,'Sequence Length')"
      ]
     },
     "execution_count": 25,
     "metadata": {},
     "output_type": "execute_result"
    },
    {
     "data": {
      "image/png": "[encoded data removed]",
      "text/plain": [
       "<Figure size 432x288 with 1 Axes>"
      ]
     },
     "metadata": {},
     "output_type": "display_data"
    }
   ],
   "source": [
    "plt.boxplot([cluster1_box, cluster2_box, cluster3_box], labels=[\"cluster1\", \"cluster2\", \"cluster3\"])\n",
    "plt.ylabel('Sequence Length')"
   ]
  }
 ],
 "metadata": {
  "kernelspec": {
   "display_name": "Python 3",
   "language": "python",
   "name": "python3"
  },
  "language_info": {
   "codemirror_mode": {
    "name": "ipython",
    "version": 3
   },
   "file_extension": ".py",
   "mimetype": "text/x-python",
   "name": "python",
   "nbconvert_exporter": "python",
   "pygments_lexer": "ipython3",
   "version": "3.6.5"
  }
 },
 "nbformat": 4,
 "nbformat_minor": 2
}
